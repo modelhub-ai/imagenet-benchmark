{
 "cells": [
  {
   "cell_type": "code",
   "execution_count": null,
   "metadata": {},
   "outputs": [],
   "source": [
    "import requests\n",
    "import json\n",
    "import pandas as pd"
   ]
  },
  {
   "cell_type": "markdown",
   "metadata": {},
   "source": [
    "### Helper functions"
   ]
  },
  {
   "cell_type": "code",
   "execution_count": null,
   "metadata": {},
   "outputs": [],
   "source": [
    "# load imagenet synset\n",
    "imagenet_synset = pd.read_csv('imagenet_synset.txt', sep=\" \", header=None)\n",
    "imagenet_synset.columns = [\"synset\", \"imagenet_index\", \"imagenet_label\"]\n",
    "# load model synset\n",
    "model_synset = pd.read_csv('model_synset_hash.txt', sep=\"#\", header=None)\n",
    "model_synset.columns = [\"synset\", \"model_label\"]\n",
    "model_synset[\"model_index\"] = range(1000)\n",
    "# merge\n",
    "df_synset = pd.merge(imagenet_synset, model_synset, on=\"synset\")\n",
    "df_synset.head()\n",
    "# map\n",
    "def imagenet_to_model_synset(imagenet_synset):\n",
    "    return int(df_synset[df_synset[\"imagenet_index\"]==imagenet_synset][\"model_index\"])"
   ]
  },
  {
   "cell_type": "code",
   "execution_count": null,
   "metadata": {},
   "outputs": [],
   "source": [
    "def generate_df(path_to_file):\n",
    "    '''\n",
    "    Generates and returns a pandas dataframe based on the ground thruth file from the Imagenet LSVRC.\n",
    "    '''\n",
    "    df = pd.read_csv(path_to_file, sep=\" \", header=None)\n",
    "    df.columns = [\"imagenet_truth\"]\n",
    "    df[\"model_truth\"] = [imagenet_to_model_synset(i) for i in list(df[\"imagenet_truth\"])]\n",
    "    df[\"pred\"]=\"\"\n",
    "    df[\"CPU_time\"]=\"\"\n",
    "    df[\"top_1\"]=0\n",
    "    df[\"top_5\"]=0\n",
    "    df.head()\n",
    "    return df"
   ]
  },
  {
   "cell_type": "code",
   "execution_count": null,
   "metadata": {},
   "outputs": [],
   "source": [
    "def parse_prediction(dictionary):\n",
    "    '''\n",
    "    Returns the top 5 indices.\n",
    "    '''\n",
    "#    d_sorted_label = sorted(dictionary, key=lambda x: x[\"probability\"], reverse=True)\n",
    "    d_sorted_index = sorted(range(1000), key=lambda i: dictionary[i][\"probability\"], reverse=True)\n",
    "    top5 = d_sorted_index[:5]\n",
    "    return top5"
   ]
  },
  {
   "cell_type": "code",
   "execution_count": null,
   "metadata": {},
   "outputs": [],
   "source": [
    "def populate_df(file_list, df, model_name, method=\"POST\", port=80):\n",
    "    '''\n",
    "    file_list could either be a list of urls pointing to images in which case method should be \n",
    "    set to GET, or a list of file names in which case method should be POST.\n",
    "    '''\n",
    "\n",
    "    for index, item in enumerate(file_list):\n",
    "\n",
    "        # REST API\n",
    "        if method == \"GET\":\n",
    "            r = requests.get('http://localhost:' + str(port) + '/api/predict?fileurl=' + item)\n",
    "        elif method == \"POST\":\n",
    "            files = {'file': open('/data/ILSVRC2012_img_val/' + item, 'r')}\n",
    "            r = requests.post('http://localhost:' + str(port) + '/api/predict', files=files)\n",
    "\n",
    "        dictionary = json.loads(r.text)\n",
    "        predicitons = dictionary[\"output\"][0][\"prediction\"]\n",
    "\n",
    "        # parse predictions and insert into dataframe\n",
    "        top5_pred = parse_prediction(predicitons)\n",
    "        df.at[index, 'pred'] = top5_pred\n",
    "        \n",
    "        # check top_1 accuracy\n",
    "        if df.iloc[index]['model_truth'] == top5_pred[0]:\n",
    "            df.at[index, 'top_1'] = 1\n",
    "        # check top_5 accuracy\n",
    "        if df.iloc[index]['model_truth'] in top5_pred:\n",
    "            df.at[index, 'top_5'] = 1   \n",
    "            \n",
    "        # time\n",
    "        df.at[index, 'CPU_time'] = dictionary[\"processing_time\"]\n",
    "        \n",
    "        # save df\n",
    "        df.to_pickle(\"output_temp/\" + model_name)\n",
    "        \n",
    "        print \"image at index {} done\".format(index)"
   ]
  },
  {
   "cell_type": "markdown",
   "metadata": {},
   "source": [
    "### run"
   ]
  },
  {
   "cell_type": "code",
   "execution_count": null,
   "metadata": {},
   "outputs": [],
   "source": [
    "model_name = 'squeezenet'\n",
    "df = generate_df('/data/ILSVRC2012_devkit_t12/data/ILSVRC2012_validation_ground_truth.txt')"
   ]
  },
  {
   "cell_type": "code",
   "execution_count": null,
   "metadata": {},
   "outputs": [],
   "source": [
    "# file_list = [\"bagel.jpg\", \"bottle.jpeg\", \"cat.jpeg\", \"laptop.jpeg\", \"pizza.jpeg\"]\n",
    "file_list = [ \"ILSVRC2012_val_\" + str(i).zfill(8) + \".JPEG\" for i in range(1,3000) ]\n",
    "populate_df(file_list, df, model_name)"
   ]
  },
  {
   "cell_type": "markdown",
   "metadata": {},
   "source": [
    "### read"
   ]
  },
  {
   "cell_type": "code",
   "execution_count": null,
   "metadata": {},
   "outputs": [],
   "source": [
    "df1 = pd.read_pickle(\"output_temp/\" + model_name)\n",
    "df1.head(n=5)"
   ]
  },
  {
   "cell_type": "code",
   "execution_count": null,
   "metadata": {},
   "outputs": [],
   "source": [
    "print \"top1 accuracy {}\".format(len(df[df[\"top_1\"]==1]) / 1000.)\n",
    "print \"top5 accuracy {}\".format(len(df[df[\"top_5\"]==1]) / 1000.)"
   ]
  }
 ],
 "metadata": {
  "kernelspec": {
   "display_name": "Python 2",
   "language": "python",
   "name": "python2"
  },
  "language_info": {
   "codemirror_mode": {
    "name": "ipython",
    "version": 2
   },
   "file_extension": ".py",
   "mimetype": "text/x-python",
   "name": "python",
   "nbconvert_exporter": "python",
   "pygments_lexer": "ipython2",
   "version": "2.7.15rc1"
  }
 },
 "nbformat": 4,
 "nbformat_minor": 2
}
