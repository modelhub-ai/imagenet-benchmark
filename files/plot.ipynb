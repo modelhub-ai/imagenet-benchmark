{
 "cells": [
  {
   "cell_type": "code",
   "execution_count": 23,
   "metadata": {},
   "outputs": [
    {
     "data": {
      "text/html": [
       "<script>requirejs.config({paths: { 'plotly': ['https://cdn.plot.ly/plotly-latest.min']},});if(!window.Plotly) {{require(['plotly'],function(plotly) {window.Plotly=plotly;});}}</script>"
      ],
      "text/vnd.plotly.v1+html": [
       "<script>requirejs.config({paths: { 'plotly': ['https://cdn.plot.ly/plotly-latest.min']},});if(!window.Plotly) {{require(['plotly'],function(plotly) {window.Plotly=plotly;});}}</script>"
      ]
     },
     "metadata": {},
     "output_type": "display_data"
    }
   ],
   "source": [
    "import pandas as pd\n",
    "import os\n",
    "import plotly\n",
    "from plotly.offline import download_plotlyjs, init_notebook_mode, plot, iplot\n",
    "import plotly.graph_objs as go\n",
    "init_notebook_mode(connected=True)\n",
    "import colorlover as cl\n",
    "import numpy as np"
   ]
  },
  {
   "cell_type": "code",
   "execution_count": 16,
   "metadata": {},
   "outputs": [
    {
     "name": "stdout",
     "output_type": "stream",
     "text": [
      "vgg-19\n",
      "mobilenet\n",
      "squeezenet\n",
      "xception\n",
      "resnet-50\n",
      "alexnet\n",
      "inception-v3\n",
      "densenet\n",
      "googlenet\n"
     ]
    }
   ],
   "source": [
    "benchmark = []\n",
    "for filename in os.listdir(\"/output\"):\n",
    "    df = pd.read_pickle(\"/output/\" + filename)\n",
    "    print filename\n",
    "    benchmark.append( {\"model\":filename, \"top1\": round((len(df[df[\"top_1\"]==1]) / 50000.)*100,1), \n",
    "                       \"top5\": round((len(df[df[\"top_5\"]==1]) / 50000.)*100,1) })"
   ]
  },
  {
   "cell_type": "code",
   "execution_count": 17,
   "metadata": {},
   "outputs": [
    {
     "data": {
      "text/plain": [
       "[{'model': 'xception', 'top1': 78.1, 'top5': 94.1},\n",
       " {'model': 'inception-v3', 'top1': 76.7, 'top5': 93.3},\n",
       " {'model': 'densenet', 'top1': 76.6, 'top5': 93.4},\n",
       " {'model': 'resnet-50', 'top1': 75.0, 'top5': 92.3},\n",
       " {'model': 'vgg-19', 'top1': 73.7, 'top5': 91.5},\n",
       " {'model': 'mobilenet', 'top1': 70.9, 'top5': 89.9},\n",
       " {'model': 'googlenet', 'top1': 68.0, 'top5': 88.5},\n",
       " {'model': 'squeezenet', 'top1': 56.0, 'top5': 78.9},\n",
       " {'model': 'alexnet', 'top1': 55.8, 'top5': 79.1}]"
      ]
     },
     "execution_count": 17,
     "metadata": {},
     "output_type": "execute_result"
    }
   ],
   "source": [
    "benchmark = sorted(benchmark, key=lambda k: k['top1'], reverse=True) \n",
    "benchmark"
   ]
  },
  {
   "cell_type": "code",
   "execution_count": 19,
   "metadata": {},
   "outputs": [],
   "source": [
    "reported = [\n",
    " {'model': 'xception', 'top1': 79.0 , 'top5': 94.5 },\n",
    " {'model': 'inception-v3', 'top1': 78.8 , 'top5': 94.4 },\n",
    " {'model': 'densenet', 'top1': 76.2 , 'top5': 93.2},\n",
    " {'model': 'resnet-50', 'top1': 77.2 , 'top5': 93.3},\n",
    " {'model': 'vgg-19', 'top1': 74.5, 'top5': 92.0 },\n",
    " {'model': 'mobilenet', 'top1': 72.0 , 'top5': 0},\n",
    " {'model': 'googlenet', 'top1': 0 , 'top5': 93.3 },\n",
    " {'model': 'squeezenet', 'top1': 57.5 , 'top5': 80.3 },\n",
    " {'model': 'alexnet', 'top1': 57.2, 'top5': 80.3 }\n",
    "]"
   ]
  },
  {
   "cell_type": "code",
   "execution_count": 51,
   "metadata": {},
   "outputs": [
    {
     "data": {
      "application/vnd.plotly.v1+json": {
       "data": [
        {
         "mode": "markers+text",
         "name": "top1",
         "text": [
          "78.1",
          "76.7",
          "76.6",
          "75.0",
          "73.7",
          "70.9",
          "68.0",
          "56.0",
          "55.8"
         ],
         "textposition": "middle right",
         "type": "scatter",
         "uid": "b264b4f8-57a3-11e9-ba85-507b9de543e8",
         "x": [
          "xception",
          "inception-v3",
          "densenet",
          "resnet-50",
          "vgg-19",
          "mobilenet",
          "googlenet",
          "squeezenet",
          "alexnet"
         ],
         "y": [
          78.1,
          76.7,
          76.6,
          75,
          73.7,
          70.9,
          68,
          56,
          55.8
         ]
        },
        {
         "marker": {
          "size": 8,
          "symbol": "x"
         },
         "mode": "markers+text",
         "name": "top5",
         "text": [
          "94.1",
          "93.3",
          "93.4",
          "92.3",
          "91.5",
          "89.9",
          "88.5",
          "78.9",
          "79.1"
         ],
         "textposition": "middle right",
         "type": "scatter",
         "uid": "b264b80e-57a3-11e9-ba85-507b9de543e8",
         "x": [
          "xception",
          "inception-v3",
          "densenet",
          "resnet-50",
          "vgg-19",
          "mobilenet",
          "googlenet",
          "squeezenet",
          "alexnet"
         ],
         "y": [
          94.1,
          93.3,
          93.4,
          92.3,
          91.5,
          89.9,
          88.5,
          78.9,
          79.1
         ]
        },
        {
         "mode": "markers+text",
         "name": "reported top1",
         "text": [
          "79.0",
          "78.8",
          "76.2",
          "77.2",
          "74.5",
          "72.0",
          "0",
          "57.5",
          "57.2"
         ],
         "textposition": "middle left",
         "type": "scatter",
         "uid": "b264ba52-57a3-11e9-ba85-507b9de543e8",
         "x": [
          "xception",
          "inception-v3",
          "densenet",
          "resnet-50",
          "vgg-19",
          "mobilenet",
          "googlenet",
          "squeezenet",
          "alexnet"
         ],
         "y": [
          79,
          78.8,
          76.2,
          77.2,
          74.5,
          72,
          0,
          57.5,
          57.2
         ]
        },
        {
         "marker": {
          "size": 8,
          "symbol": "x"
         },
         "mode": "markers+text",
         "name": "reported top5",
         "text": [
          "94.5",
          "94.4",
          "93.2",
          "93.3",
          "92.0",
          "0",
          "93.3",
          "80.3",
          "80.3"
         ],
         "textposition": "middle left",
         "type": "scatter",
         "uid": "b264bc64-57a3-11e9-ba85-507b9de543e8",
         "x": [
          "xception",
          "inception-v3",
          "densenet",
          "resnet-50",
          "vgg-19",
          "mobilenet",
          "googlenet",
          "squeezenet",
          "alexnet"
         ],
         "y": [
          94.5,
          94.4,
          93.2,
          93.3,
          92,
          0,
          93.3,
          80.3,
          80.3
         ]
        }
       ],
       "layout": {
        "font": {
         "size": 12
        },
        "title": "asdf",
        "xaxis": {
         "title": "models"
        },
        "yaxis": {
         "range": [
          55,
          100
         ],
         "title": "accuracy"
        }
       }
      },
      "text/html": [
       "<div id=\"51280419-1599-4888-b54e-75bc5c49923c\" style=\"height: 525px; width: 100%;\" class=\"plotly-graph-div\"></div><script type=\"text/javascript\">require([\"plotly\"], function(Plotly) { window.PLOTLYENV=window.PLOTLYENV || {};window.PLOTLYENV.BASE_URL=\"https://plot.ly\";Plotly.newPlot(\"51280419-1599-4888-b54e-75bc5c49923c\", [{\"textposition\": \"middle right\", \"name\": \"top1\", \"text\": [\"78.1\", \"76.7\", \"76.6\", \"75.0\", \"73.7\", \"70.9\", \"68.0\", \"56.0\", \"55.8\"], \"mode\": \"markers+text\", \"y\": [78.1, 76.7, 76.6, 75.0, 73.7, 70.9, 68.0, 56.0, 55.8], \"x\": [\"xception\", \"inception-v3\", \"densenet\", \"resnet-50\", \"vgg-19\", \"mobilenet\", \"googlenet\", \"squeezenet\", \"alexnet\"], \"type\": \"scatter\", \"uid\": \"b26f9f1c-57a3-11e9-ba85-507b9de543e8\"}, {\"textposition\": \"middle right\", \"name\": \"top5\", \"text\": [\"94.1\", \"93.3\", \"93.4\", \"92.3\", \"91.5\", \"89.9\", \"88.5\", \"78.9\", \"79.1\"], \"y\": [94.1, 93.3, 93.4, 92.3, 91.5, 89.9, 88.5, 78.9, 79.1], \"mode\": \"markers+text\", \"marker\": {\"symbol\": \"x\", \"size\": 8}, \"x\": [\"xception\", \"inception-v3\", \"densenet\", \"resnet-50\", \"vgg-19\", \"mobilenet\", \"googlenet\", \"squeezenet\", \"alexnet\"], \"type\": \"scatter\", \"uid\": \"b26fa282-57a3-11e9-ba85-507b9de543e8\"}, {\"textposition\": \"middle left\", \"name\": \"reported top1\", \"text\": [\"79.0\", \"78.8\", \"76.2\", \"77.2\", \"74.5\", \"72.0\", \"0\", \"57.5\", \"57.2\"], \"mode\": \"markers+text\", \"y\": [79.0, 78.8, 76.2, 77.2, 74.5, 72.0, 0, 57.5, 57.2], \"x\": [\"xception\", \"inception-v3\", \"densenet\", \"resnet-50\", \"vgg-19\", \"mobilenet\", \"googlenet\", \"squeezenet\", \"alexnet\"], \"type\": \"scatter\", \"uid\": \"b26fa50c-57a3-11e9-ba85-507b9de543e8\"}, {\"textposition\": \"middle left\", \"name\": \"reported top5\", \"text\": [\"94.5\", \"94.4\", \"93.2\", \"93.3\", \"92.0\", \"0\", \"93.3\", \"80.3\", \"80.3\"], \"y\": [94.5, 94.4, 93.2, 93.3, 92.0, 0, 93.3, 80.3, 80.3], \"mode\": \"markers+text\", \"marker\": {\"symbol\": \"x\", \"size\": 8}, \"x\": [\"xception\", \"inception-v3\", \"densenet\", \"resnet-50\", \"vgg-19\", \"mobilenet\", \"googlenet\", \"squeezenet\", \"alexnet\"], \"type\": \"scatter\", \"uid\": \"b26fa78c-57a3-11e9-ba85-507b9de543e8\"}], {\"title\": \"asdf\", \"font\": {\"size\": 12}, \"xaxis\": {\"title\": \"models\"}, \"yaxis\": {\"range\": [55, 100], \"title\": \"accuracy\"}}, {\"linkText\": \"Export to plot.ly\", \"showLink\": true})});</script>"
      ],
      "text/vnd.plotly.v1+html": [
       "<div id=\"51280419-1599-4888-b54e-75bc5c49923c\" style=\"height: 525px; width: 100%;\" class=\"plotly-graph-div\"></div><script type=\"text/javascript\">require([\"plotly\"], function(Plotly) { window.PLOTLYENV=window.PLOTLYENV || {};window.PLOTLYENV.BASE_URL=\"https://plot.ly\";Plotly.newPlot(\"51280419-1599-4888-b54e-75bc5c49923c\", [{\"textposition\": \"middle right\", \"name\": \"top1\", \"text\": [\"78.1\", \"76.7\", \"76.6\", \"75.0\", \"73.7\", \"70.9\", \"68.0\", \"56.0\", \"55.8\"], \"mode\": \"markers+text\", \"y\": [78.1, 76.7, 76.6, 75.0, 73.7, 70.9, 68.0, 56.0, 55.8], \"x\": [\"xception\", \"inception-v3\", \"densenet\", \"resnet-50\", \"vgg-19\", \"mobilenet\", \"googlenet\", \"squeezenet\", \"alexnet\"], \"type\": \"scatter\", \"uid\": \"b26f9f1c-57a3-11e9-ba85-507b9de543e8\"}, {\"textposition\": \"middle right\", \"name\": \"top5\", \"text\": [\"94.1\", \"93.3\", \"93.4\", \"92.3\", \"91.5\", \"89.9\", \"88.5\", \"78.9\", \"79.1\"], \"y\": [94.1, 93.3, 93.4, 92.3, 91.5, 89.9, 88.5, 78.9, 79.1], \"mode\": \"markers+text\", \"marker\": {\"symbol\": \"x\", \"size\": 8}, \"x\": [\"xception\", \"inception-v3\", \"densenet\", \"resnet-50\", \"vgg-19\", \"mobilenet\", \"googlenet\", \"squeezenet\", \"alexnet\"], \"type\": \"scatter\", \"uid\": \"b26fa282-57a3-11e9-ba85-507b9de543e8\"}, {\"textposition\": \"middle left\", \"name\": \"reported top1\", \"text\": [\"79.0\", \"78.8\", \"76.2\", \"77.2\", \"74.5\", \"72.0\", \"0\", \"57.5\", \"57.2\"], \"mode\": \"markers+text\", \"y\": [79.0, 78.8, 76.2, 77.2, 74.5, 72.0, 0, 57.5, 57.2], \"x\": [\"xception\", \"inception-v3\", \"densenet\", \"resnet-50\", \"vgg-19\", \"mobilenet\", \"googlenet\", \"squeezenet\", \"alexnet\"], \"type\": \"scatter\", \"uid\": \"b26fa50c-57a3-11e9-ba85-507b9de543e8\"}, {\"textposition\": \"middle left\", \"name\": \"reported top5\", \"text\": [\"94.5\", \"94.4\", \"93.2\", \"93.3\", \"92.0\", \"0\", \"93.3\", \"80.3\", \"80.3\"], \"y\": [94.5, 94.4, 93.2, 93.3, 92.0, 0, 93.3, 80.3, 80.3], \"mode\": \"markers+text\", \"marker\": {\"symbol\": \"x\", \"size\": 8}, \"x\": [\"xception\", \"inception-v3\", \"densenet\", \"resnet-50\", \"vgg-19\", \"mobilenet\", \"googlenet\", \"squeezenet\", \"alexnet\"], \"type\": \"scatter\", \"uid\": \"b26fa78c-57a3-11e9-ba85-507b9de543e8\"}], {\"title\": \"asdf\", \"font\": {\"size\": 12}, \"xaxis\": {\"title\": \"models\"}, \"yaxis\": {\"range\": [55, 100], \"title\": \"accuracy\"}}, {\"linkText\": \"Export to plot.ly\", \"showLink\": true})});</script>"
      ]
     },
     "metadata": {},
     "output_type": "display_data"
    },
    {
     "data": {
      "text/html": [
       "<script>function downloadimage(format, height, width, filename) {var p = document.getElementById('51280419-1599-4888-b54e-75bc5c49923c');Plotly.downloadImage(p, {format: format, height: height, width: width, filename: filename});};if(document.readyState == 'complete') {{downloadimage('svg', 600, 800, 'line-mode');}}</script>"
      ],
      "text/plain": [
       "<IPython.core.display.HTML object>"
      ]
     },
     "metadata": {},
     "output_type": "display_data"
    }
   ],
   "source": [
    "N = 100\n",
    "random_x = np.linspace(0, 1, N)\n",
    "random_y0 = np.random.randn(N)+5\n",
    "random_y1 = np.random.randn(N)\n",
    "random_y2 = np.random.randn(N)-5\n",
    "\n",
    "# Create traces\n",
    "data = [\n",
    "        dict(type=\"scatter\",\n",
    "             x = [x[\"model\"] for x in benchmark],\n",
    "            y = [x[\"top1\"] for x in benchmark],\n",
    "            mode = 'markers+text',\n",
    "            name = 'top1',\n",
    "            text = [x[\"top1\"] for x in benchmark],\n",
    "            textposition='middle right') \n",
    "    , \n",
    "        dict(type=\"scatter\",\n",
    "             x = [x[\"model\"] for x in benchmark],\n",
    "            y = [x[\"top5\"] for x in benchmark],\n",
    "            mode = 'markers+text',\n",
    "            name = 'top5',\n",
    "            text = [x[\"top5\"] for x in benchmark],\n",
    "            textposition='middle right',\n",
    "            marker= dict(symbol=\"x\", size=8))  \n",
    "    ,\n",
    "        dict(type=\"scatter\",\n",
    "             x = [x[\"model\"] for x in reported],\n",
    "            y = [x[\"top1\"] for x in reported],\n",
    "            mode = 'markers+text',\n",
    "            name = 'reported top1',\n",
    "            text = [x[\"top1\"] for x in reported],\n",
    "            textposition='middle left') \n",
    "    , \n",
    "        dict(type=\"scatter\",\n",
    "             x = [x[\"model\"] for x in reported],\n",
    "            y = [x[\"top5\"] for x in reported],\n",
    "            mode = 'markers+text',\n",
    "            name = 'reported top5',\n",
    "            text = [x[\"top5\"] for x in reported],\n",
    "            textposition='middle left',\n",
    "            marker= dict(symbol=\"x\", size=8)) \n",
    "]\n",
    "\n",
    "\n",
    "layout = dict(\n",
    "        title=\"asdf\",\n",
    "        font=dict( size=12),\n",
    "        xaxis=dict(\n",
    "            title=\"models\"\n",
    "        ),\n",
    "        yaxis=dict(\n",
    "            title=\"accuracy\",\n",
    "            range=[55,100]\n",
    "        )\n",
    "    )\n",
    "\n",
    "\n",
    "fig = dict( data=data, layout=layout )\n",
    "\n",
    "iplot(fig, filename='line-mode', image=\"svg\")"
   ]
  }
 ],
 "metadata": {
  "kernelspec": {
   "display_name": "Python 2",
   "language": "python",
   "name": "python2"
  },
  "language_info": {
   "codemirror_mode": {
    "name": "ipython",
    "version": 2
   },
   "file_extension": ".py",
   "mimetype": "text/x-python",
   "name": "python",
   "nbconvert_exporter": "python",
   "pygments_lexer": "ipython2",
   "version": "2.7.15rc1"
  }
 },
 "nbformat": 4,
 "nbformat_minor": 2
}
